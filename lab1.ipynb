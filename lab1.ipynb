{
 "cells": [
  {
   "cell_type": "code",
   "execution_count": 1,
   "metadata": {},
   "outputs": [],
   "source": [
    "from PIL import Image, ImageFilter"
   ]
  },
  {
   "cell_type": "code",
   "execution_count": 2,
   "metadata": {},
   "outputs": [],
   "source": [
    "img = Image.open('ncu.jpg')\n",
    "img.show()"
   ]
  },
  {
   "cell_type": "code",
   "execution_count": 7,
   "metadata": {},
   "outputs": [
    {
     "name": "stdout",
     "output_type": "stream",
     "text": [
      "(974, 497)\n",
      "RGB\n",
      "JPEG\n"
     ]
    }
   ],
   "source": [
    "print(img.size)\n",
    "print(img.mode)\n",
    "print(img.format)"
   ]
  },
  {
   "cell_type": "code",
   "execution_count": 4,
   "metadata": {},
   "outputs": [],
   "source": [
    "#rotate image\n",
    "img = img.rotate(90)\n",
    "img.show()"
   ]
  },
  {
   "cell_type": "code",
   "execution_count": 46,
   "metadata": {},
   "outputs": [],
   "source": [
    "#blur image\n",
    "img = img.filter(ImageFilter.BLUR)\n",
    "img.show()"
   ]
  },
  {
   "cell_type": "code",
   "execution_count": 47,
   "metadata": {},
   "outputs": [],
   "source": [
    "#convert image to green scale\n",
    "img = img.convert('L')\n",
    "img.show()"
   ]
  },
  {
   "cell_type": "code",
   "execution_count": 4,
   "metadata": {},
   "outputs": [
    {
     "name": "stdout",
     "output_type": "stream",
     "text": [
      "[[[255 255 255]\n",
      "  [255 255 255]\n",
      "  [255 255 255]\n",
      "  ...\n",
      "  [255 255 255]\n",
      "  [255 255 255]\n",
      "  [255 255 255]]\n",
      "\n",
      " [[255 255 255]\n",
      "  [255 255 255]\n",
      "  [255 255 255]\n",
      "  ...\n",
      "  [255 255 255]\n",
      "  [255 255 255]\n",
      "  [255 255 255]]\n",
      "\n",
      " [[255 255 255]\n",
      "  [255 255 255]\n",
      "  [255 255 255]\n",
      "  ...\n",
      "  [255 255 255]\n",
      "  [255 255 255]\n",
      "  [255 255 255]]\n",
      "\n",
      " ...\n",
      "\n",
      " [[ 65  72  21]\n",
      "  [ 65  71  23]\n",
      "  [ 63  69  25]\n",
      "  ...\n",
      "  [ 65  90  51]\n",
      "  [ 68  93  54]\n",
      "  [ 75 100  61]]\n",
      "\n",
      " [[ 75  84  37]\n",
      "  [ 76  85  40]\n",
      "  [ 74  83  40]\n",
      "  ...\n",
      "  [ 66  91  52]\n",
      "  [ 64  89  50]\n",
      "  [ 58  83  44]]\n",
      "\n",
      " [[107 112  20]\n",
      "  [111 117  31]\n",
      "  [101 112  33]\n",
      "  ...\n",
      "  [ 60  85  43]\n",
      "  [ 54  79  37]\n",
      "  [ 55  80  40]]]\n",
      "(497, 974, 3)\n"
     ]
    }
   ],
   "source": [
    "import numpy as np\n",
    "#convert image to numpy array\n",
    "imgar = np.array(img)\n",
    "print(imgar)\n",
    "print(imgar.shape)"
   ]
  },
  {
   "cell_type": "code",
   "execution_count": 9,
   "metadata": {},
   "outputs": [],
   "source": [
    "#remove red and blue channel\n",
    "imgar[:, :, 0] = 0\n",
    "#convert numpy array to image\n",
    "imggr = Image.fromarray(imgar)\n",
    "imggr.show()"
   ]
  },
  {
   "cell_type": "code",
   "execution_count": 10,
   "metadata": {},
   "outputs": [
    {
     "data": {
      "text/plain": [
       "array([[[  0, 255, 255],\n",
       "        [  0, 255, 255],\n",
       "        [  0, 255, 255],\n",
       "        ...,\n",
       "        [  0, 255, 255],\n",
       "        [  0, 255, 255],\n",
       "        [  0, 255, 255]],\n",
       "\n",
       "       [[  0, 255, 255],\n",
       "        [  0, 255, 255],\n",
       "        [  0, 255, 255],\n",
       "        ...,\n",
       "        [  0, 255, 255],\n",
       "        [  0, 255, 255],\n",
       "        [  0, 255, 255]],\n",
       "\n",
       "       [[  0, 255, 255],\n",
       "        [  0, 255, 255],\n",
       "        [  0, 255, 255],\n",
       "        ...,\n",
       "        [  0, 255, 255],\n",
       "        [  0, 255, 255],\n",
       "        [  0, 255, 255]],\n",
       "\n",
       "       ...,\n",
       "\n",
       "       [[  0,  72,  21],\n",
       "        [  0,  71,  23],\n",
       "        [  0,  69,  25],\n",
       "        ...,\n",
       "        [  0,  90,  51],\n",
       "        [  0,  93,  54],\n",
       "        [  0, 100,  61]],\n",
       "\n",
       "       [[  0,  84,  37],\n",
       "        [  0,  85,  40],\n",
       "        [  0,  83,  40],\n",
       "        ...,\n",
       "        [  0,  91,  52],\n",
       "        [  0,  89,  50],\n",
       "        [  0,  83,  44]],\n",
       "\n",
       "       [[  0, 112,  20],\n",
       "        [  0, 117,  31],\n",
       "        [  0, 112,  33],\n",
       "        ...,\n",
       "        [  0,  85,  43],\n",
       "        [  0,  79,  37],\n",
       "        [  0,  80,  40]]], dtype=uint8)"
      ]
     },
     "execution_count": 10,
     "metadata": {},
     "output_type": "execute_result"
    }
   ],
   "source": [
    "imgar[:, :]"
   ]
  },
  {
   "cell_type": "code",
   "execution_count": 11,
   "metadata": {},
   "outputs": [],
   "source": [
    "height, width = img.size\n",
    "image_data=img.load()\n",
    "for loop1 in range(height):\n",
    "    for loop2 in range(width):\n",
    "        r,g,b = image_data[loop1,loop2]\n",
    "        image_data[loop1,loop2] = 0,g,0"
   ]
  },
  {
   "cell_type": "code",
   "execution_count": 12,
   "metadata": {},
   "outputs": [],
   "source": [
    "img.save('changed.jpeg')"
   ]
  },
  {
   "cell_type": "code",
   "execution_count": 5,
   "metadata": {},
   "outputs": [
    {
     "name": "stdout",
     "output_type": "stream",
     "text": [
      "(400, 640, 3)\n"
     ]
    }
   ],
   "source": [
    "shapes=Image.open('shapes.png')\n",
    "shapes.show()\n",
    "imgar1=np.array(shapes)\n",
    "print(imgar1.shape)\n",
    "imgar1[:,:,0]=0\n",
    "imgar1[:,:,2]=0\n",
    "imgreen=Image.fromarray(imgar1)\n",
    "imgreen.show()"
   ]
  },
  {
   "cell_type": "code",
   "execution_count": 6,
   "metadata": {},
   "outputs": [],
   "source": [
    "scaled=imgreen.resize((int(imgreen.size[0]/2),int(imgreen.size[1]/2)))\n",
    "scaled.show()"
   ]
  },
  {
   "cell_type": "code",
   "execution_count": 7,
   "metadata": {},
   "outputs": [],
   "source": [
    "rota=scaled.rotate(90)\n",
    "rota.show()"
   ]
  }
 ],
 "metadata": {
  "kernelspec": {
   "display_name": "Python 3.10.5 64-bit",
   "language": "python",
   "name": "python3"
  },
  "language_info": {
   "codemirror_mode": {
    "name": "ipython",
    "version": 3
   },
   "file_extension": ".py",
   "mimetype": "text/x-python",
   "name": "python",
   "nbconvert_exporter": "python",
   "pygments_lexer": "ipython3",
   "version": "3.10.5"
  },
  "orig_nbformat": 4,
  "vscode": {
   "interpreter": {
    "hash": "1faf759d177765deb55ee80ab4abb1efe18815b38afeaebc22989555973fc7cb"
   }
  }
 },
 "nbformat": 4,
 "nbformat_minor": 2
}

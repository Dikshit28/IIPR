{
 "cells": [
  {
   "cell_type": "code",
   "execution_count": 98,
   "metadata": {},
   "outputs": [],
   "source": [
    "import numpy as np\n",
    "import matplotlib.pyplot as plt\n",
    "from matplotlib.patches import Polygon"
   ]
  },
  {
   "cell_type": "code",
   "execution_count": 99,
   "metadata": {},
   "outputs": [],
   "source": [
    "#creating a square using numpy\n",
    "pts=np.array([[0,0],[0,4],[4,0],[4,4]])"
   ]
  },
  {
   "cell_type": "code",
   "execution_count": 100,
   "metadata": {},
   "outputs": [
    {
     "data": {
      "text/plain": [
       "array([[0., 0.],\n",
       "       [0., 2.],\n",
       "       [2., 0.],\n",
       "       [2., 2.]])"
      ]
     },
     "execution_count": 100,
     "metadata": {},
     "output_type": "execute_result"
    }
   ],
   "source": [
    "scale=np.array([[0.5,0],[0,0.5]])\n",
    "scaled_pts=np.dot(pts,scale)\n",
    "scaled_pts"
   ]
  },
  {
   "cell_type": "code",
   "execution_count": 101,
   "metadata": {},
   "outputs": [
    {
     "data": {
      "text/plain": [
       "array([[ 0.        ,  0.        ],\n",
       "       [ 1.41421356,  1.41421356],\n",
       "       [ 1.41421356, -1.41421356],\n",
       "       [ 2.82842712,  0.        ]])"
      ]
     },
     "execution_count": 101,
     "metadata": {},
     "output_type": "execute_result"
    }
   ],
   "source": [
    "rotate=np.array([[np.cos(np.pi/4),-np.sin(np.pi/4)],[np.sin(np.pi/4),np.cos(np.pi/4)]])\n",
    "rotated_pts=np.dot(scaled_pts,rotate)\n",
    "rotated_pts"
   ]
  },
  {
   "cell_type": "code",
   "execution_count": 104,
   "metadata": {},
   "outputs": [
    {
     "data": {
      "image/png": "[encoded data removed]",
      "text/plain": [
       "<Figure size 432x288 with 1 Axes>"
      ]
     },
     "metadata": {
      "needs_background": "light"
     },
     "output_type": "display_data"
    }
   ],
   "source": [
    "#creating a square using matplotlib\n",
    "plt.Figure(figsize=(5,5))\n",
    "#joining 1 to 3 and 2 to 4\n",
    "plt.plot(scaled_pts[0:2][:, 0], scaled_pts[0:2][:, 1], 'ro-')\n",
    "plt.plot(scaled_pts[2:4][:, 0], scaled_pts[2:4][:, 1], 'ro-')\n",
    "#joining 0 to 2 and 1 to 3\n",
    "plt.plot((scaled_pts[1:2][:, 0], scaled_pts[3:4][:, 0]),\n",
    "         (scaled_pts[1:2][:, 1], scaled_pts[3:4][:, 1]), 'ro-')\n",
    "\n",
    "plt.plot((scaled_pts[0:1][:, 0], scaled_pts[2:3][:, 0]),\n",
    "         (scaled_pts[0:1][:, 1], scaled_pts[2:3][:, 1]), 'ro-')\n",
    "plt.show()"
   ]
  },
  {
   "cell_type": "code",
   "execution_count": 105,
   "metadata": {},
   "outputs": [
    {
     "data": {
      "image/png": "[encoded data removed]",
      "text/plain": [
       "<Figure size 432x288 with 1 Axes>"
      ]
     },
     "metadata": {
      "needs_background": "light"
     },
     "output_type": "display_data"
    }
   ],
   "source": [
    "plt.plot(rotated_pts[:,0],rotated_pts[:,1],'o')\n",
    "#joining 1 to 3 and 2 to 4\n",
    "plt.plot(rotated_pts[0:2][:, 0], rotated_pts[0:2][:, 1], 'ro-')\n",
    "plt.plot(rotated_pts[2:4][:, 0], rotated_pts[2:4][:, 1], 'ro-')\n",
    "#joining 0 to 2 and 1 to 3\n",
    "plt.plot((rotated_pts[1:2][:, 0], rotated_pts[3:4][:, 0]),\n",
    "         (rotated_pts[1:2][:, 1], rotated_pts[3:4][:, 1]), 'ro-')\n",
    "\n",
    "plt.plot((rotated_pts[0:1][:, 0], rotated_pts[2:3][:, 0]),\n",
    "         (rotated_pts[0:1][:, 1], rotated_pts[2:3][:, 1]), 'ro-')\n",
    "\n",
    "plt.show()"
   ]
  }
 ],
 "metadata": {
  "kernelspec": {
   "display_name": "Python 3.10.5 64-bit",
   "language": "python",
   "name": "python3"
  },
  "language_info": {
   "codemirror_mode": {
    "name": "ipython",
    "version": 3
   },
   "file_extension": ".py",
   "mimetype": "text/x-python",
   "name": "python",
   "nbconvert_exporter": "python",
   "pygments_lexer": "ipython3",
   "version": "3.10.5"
  },
  "orig_nbformat": 4,
  "vscode": {
   "interpreter": {
    "hash": "1faf759d177765deb55ee80ab4abb1efe18815b38afeaebc22989555973fc7cb"
   }
  }
 },
 "nbformat": 4,
 "nbformat_minor": 2
}

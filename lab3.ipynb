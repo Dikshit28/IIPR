{
 "cells": [
  {
   "cell_type": "code",
   "execution_count": 1,
   "metadata": {},
   "outputs": [],
   "source": [
    "import numpy as np\n",
    "import matplotlib.pyplot as plt"
   ]
  },
  {
   "cell_type": "code",
   "execution_count": 2,
   "metadata": {},
   "outputs": [],
   "source": [
    "# let img1 be an image with no features\n",
    "img1 = np.array([np.array([200, 200]), np.array([200, 200])])\n",
    "img2 = np.array([np.array([200, 200]), np.array([0, 0])])\n",
    "img3 = np.array([np.array([200, 0]), np.array([200, 0])])\n"
   ]
  },
  {
   "cell_type": "code",
   "execution_count": 3,
   "metadata": {},
   "outputs": [
    {
     "name": "stdout",
     "output_type": "stream",
     "text": [
      "[[ 2  2]\n",
      " [-2 -2]] is a kernel for detecting horizontal edges\n"
     ]
    }
   ],
   "source": [
    "kernel_horizontal = np.array([np.array([2, 2]), np.array([-2, -2])])\n",
    "print(kernel_horizontal, 'is a kernel for detecting horizontal edges')"
   ]
  },
  {
   "cell_type": "code",
   "execution_count": 4,
   "metadata": {},
   "outputs": [
    {
     "name": "stdout",
     "output_type": "stream",
     "text": [
      "[[ 2 -2]\n",
      " [ 2 -2]] is a kernel for detecting vertical edges\n"
     ]
    }
   ],
   "source": [
    "kernel_vertical = np.array([np.array([2, -2]), np.array([2, -2])])\n",
    "print(kernel_vertical, 'is a kernel for detecting vertical edges')"
   ]
  },
  {
   "cell_type": "code",
   "execution_count": 5,
   "metadata": {},
   "outputs": [],
   "source": [
    "# We will apply the kernels on the images by\n",
    "# elementwise multiplication followed by summation\n",
    "def apply_kernel(img, kernel):\n",
    "\treturn np.sum(np.multiply(img, kernel))"
   ]
  },
  {
   "cell_type": "code",
   "execution_count": 6,
   "metadata": {},
   "outputs": [
    {
     "data": {
      "image/png": "[encoded data removed]",
      "text/plain": [
       "<Figure size 432x288 with 1 Axes>"
      ]
     },
     "metadata": {
      "needs_background": "light"
     },
     "output_type": "display_data"
    }
   ],
   "source": [
    "# Visualizing img1\n",
    "plt.imshow(img1)\n",
    "plt.axis('off')\n",
    "plt.title('img1')\n",
    "plt.show()"
   ]
  },
  {
   "cell_type": "code",
   "execution_count": 7,
   "metadata": {},
   "outputs": [
    {
     "name": "stdout",
     "output_type": "stream",
     "text": [
      "Horizontal edge confidence score: 0\n",
      "Vertical edge confidence score: 0\n"
     ]
    }
   ],
   "source": [
    "# Checking for horizontal and vertical features in image1\n",
    "print('Horizontal edge confidence score:', apply_kernel(img1,kernel_horizontal))\n",
    "print('Vertical edge confidence score:', apply_kernel(img1,kernel_vertical))"
   ]
  },
  {
   "cell_type": "code",
   "execution_count": 8,
   "metadata": {},
   "outputs": [
    {
     "data": {
      "image/png": "[encoded data removed]",
      "text/plain": [
       "<Figure size 432x288 with 1 Axes>"
      ]
     },
     "metadata": {
      "needs_background": "light"
     },
     "output_type": "display_data"
    }
   ],
   "source": [
    "# Visualizing img2\n",
    "plt.imshow(img2)\n",
    "plt.axis('off')\n",
    "plt.title('img2')\n",
    "plt.show()"
   ]
  },
  {
   "cell_type": "code",
   "execution_count": 9,
   "metadata": {},
   "outputs": [
    {
     "name": "stdout",
     "output_type": "stream",
     "text": [
      "Horizontal edge confidence score: 800\n",
      "Vertical edge confidence score: 0\n"
     ]
    }
   ],
   "source": [
    "# Checking for horizontal and vertical features in image2\n",
    "print('Horizontal edge confidence score:', apply_kernel(img2,kernel_horizontal))\n",
    "print('Vertical edge confidence score:', apply_kernel(img2,kernel_vertical))"
   ]
  },
  {
   "cell_type": "code",
   "execution_count": 10,
   "metadata": {},
   "outputs": [
    {
     "data": {
      "image/png": "[encoded data removed]",
      "text/plain": [
       "<Figure size 432x288 with 1 Axes>"
      ]
     },
     "metadata": {
      "needs_background": "light"
     },
     "output_type": "display_data"
    }
   ],
   "source": [
    "# Visualizing img3\n",
    "plt.imshow(img3)\n",
    "plt.axis('off')\n",
    "plt.title('img3')\n",
    "plt.show()"
   ]
  },
  {
   "cell_type": "code",
   "execution_count": 11,
   "metadata": {},
   "outputs": [
    {
     "name": "stdout",
     "output_type": "stream",
     "text": [
      "Horizontal edge confidence score: 0\n",
      "Vertical edge confidence score: 800\n"
     ]
    }
   ],
   "source": [
    "# Checking for horizontal and vertical features in image3\n",
    "print('Horizontal edge confidence score:', apply_kernel(img3,kernel_horizontal))\n",
    "print('Vertical edge confidence score:', apply_kernel(img3,kernel_vertical))"
   ]
  },
  {
   "cell_type": "code",
   "execution_count": null,
   "metadata": {},
   "outputs": [],
   "source": []
  }
 ],
 "metadata": {
  "kernelspec": {
   "display_name": "Python 3.10.5 64-bit",
   "language": "python",
   "name": "python3"
  },
  "language_info": {
   "codemirror_mode": {
    "name": "ipython",
    "version": 3
   },
   "file_extension": ".py",
   "mimetype": "text/x-python",
   "name": "python",
   "nbconvert_exporter": "python",
   "pygments_lexer": "ipython3",
   "version": "3.10.5"
  },
  "orig_nbformat": 4,
  "vscode": {
   "interpreter": {
    "hash": "1faf759d177765deb55ee80ab4abb1efe18815b38afeaebc22989555973fc7cb"
   }
  }
 },
 "nbformat": 4,
 "nbformat_minor": 2
}

{
 "cells": [
  {
   "cell_type": "code",
   "execution_count": 37,
   "metadata": {},
   "outputs": [],
   "source": [
    "import numpy as np"
   ]
  },
  {
   "cell_type": "code",
   "execution_count": 38,
   "metadata": {},
   "outputs": [
    {
     "name": "stdout",
     "output_type": "stream",
     "text": [
      "mask\n",
      "[[1 1 1]\n",
      " [0 1 0]\n",
      " [1 0 1]]\n",
      "mask 180\n",
      "[[1 0 1]\n",
      " [0 1 0]\n",
      " [1 1 1]]\n"
     ]
    }
   ],
   "source": [
    "mask = np.array([[1, 1, 1], [0, 1, 0], [1, 0, 1]])\n",
    "print(\"mask\")\n",
    "print(mask)\n",
    "#rotate 180 degree\n",
    "mask_rot = np.rot90(mask, 2)\n",
    "print(\"mask 180\")\n",
    "print(mask_rot)"
   ]
  },
  {
   "cell_type": "code",
   "execution_count": 39,
   "metadata": {},
   "outputs": [
    {
     "name": "stdout",
     "output_type": "stream",
     "text": [
      "img\n",
      "[[1 1 1 0 0]\n",
      " [0 1 1 1 0]\n",
      " [0 0 1 1 1]\n",
      " [0 0 1 1 0]\n",
      " [0 1 1 0 0]]\n"
     ]
    }
   ],
   "source": [
    "img = np.array([[1,1,1,0,0],[0,1,1,1,0],[0,0,1,1,1],[0,0,1,1,0],[0,1,1,0,0]])\n",
    "print(\"img\")\n",
    "print(img)"
   ]
  },
  {
   "cell_type": "code",
   "execution_count": 40,
   "metadata": {},
   "outputs": [],
   "source": [
    "#Correlation\n",
    "def apply_kernel(img, kernel):\n",
    "\treturn np.sum(np.multiply(img, kernel))\n",
    "\n",
    "def correlation(img, mask):\n",
    "    arr=[]\n",
    "    for i in range(len(img)-len(mask)+1):\n",
    "        arr1=[]\n",
    "        for j in range(len(img[0])-len(mask)+1):\n",
    "            arr1.append(apply_kernel(img[i:i+3, j:j+3], mask))\n",
    "        arr.append(arr1)\n",
    "    return np.array(arr)\n",
    "        \n",
    "def convulation(img, mask):\n",
    "    arr=[]\n",
    "    for i in range(len(img)-len(mask_rot)+1):\n",
    "        arr1=[]\n",
    "        for j in range(len(img[0])-len(mask_rot)+1):\n",
    "            arr1.append(apply_kernel(img[i:i+3, j:j+3], mask_rot))\n",
    "        arr.append(arr1)\n",
    "    return np.array(arr)"
   ]
  },
  {
   "cell_type": "code",
   "execution_count": 41,
   "metadata": {},
   "outputs": [
    {
     "name": "stdout",
     "output_type": "stream",
     "text": [
      "Correlation\n",
      "[[5 4 4]\n",
      " [3 5 4]\n",
      " [2 4 5]]\n",
      "Convulation\n",
      "[[4 4 5]\n",
      " [2 5 4]\n",
      " [3 4 4]]\n"
     ]
    }
   ],
   "source": [
    "print(\"Correlation\")\n",
    "print(correlation(img, mask))\n",
    "print(\"Convulation\")\n",
    "print(convulation(img, mask_rot))"
   ]
  },
  {
   "cell_type": "code",
   "execution_count": 42,
   "metadata": {},
   "outputs": [
    {
     "name": "stdout",
     "output_type": "stream",
     "text": [
      "img\n",
      "[[[255 255 255]\n",
      "  [255 255 255]\n",
      "  [255 255 255]\n",
      "  ...\n",
      "  [255 255 255]\n",
      "  [255 255 255]\n",
      "  [255 255 255]]\n",
      "\n",
      " [[255 255 255]\n",
      "  [255 255 255]\n",
      "  [255 255 255]\n",
      "  ...\n",
      "  [255 255 255]\n",
      "  [255 255 255]\n",
      "  [255 255 255]]\n",
      "\n",
      " [[255 255 255]\n",
      "  [255 255 255]\n",
      "  [255 255 255]\n",
      "  ...\n",
      "  [255 255 255]\n",
      "  [255 255 255]\n",
      "  [255 255 255]]\n",
      "\n",
      " ...\n",
      "\n",
      " [[ 65  72  21]\n",
      "  [ 65  71  23]\n",
      "  [ 63  69  25]\n",
      "  ...\n",
      "  [ 65  90  51]\n",
      "  [ 68  93  54]\n",
      "  [ 75 100  61]]\n",
      "\n",
      " [[ 75  84  37]\n",
      "  [ 76  85  40]\n",
      "  [ 74  83  40]\n",
      "  ...\n",
      "  [ 66  91  52]\n",
      "  [ 64  89  50]\n",
      "  [ 58  83  44]]\n",
      "\n",
      " [[107 112  20]\n",
      "  [111 117  31]\n",
      "  [101 112  33]\n",
      "  ...\n",
      "  [ 60  85  43]\n",
      "  [ 54  79  37]\n",
      "  [ 55  80  40]]]\n"
     ]
    }
   ],
   "source": [
    "from PIL import Image\n",
    "image= Image.open('ncu.jpg')\n",
    "img = np.array(image)\n",
    "print(\"img\")\n",
    "print(img)"
   ]
  },
  {
   "cell_type": "code",
   "execution_count": 43,
   "metadata": {},
   "outputs": [
    {
     "name": "stdout",
     "output_type": "stream",
     "text": [
      "gaussian_mask\n",
      "[[1 2 1]\n",
      " [2 4 2]\n",
      " [1 2 1]]\n"
     ]
    }
   ],
   "source": [
    "gaussian_mask = np.array([[1, 2, 1], [2, 4, 2], [1, 2, 1]])\n",
    "print(\"gaussian_mask\")\n",
    "print(gaussian_mask)"
   ]
  },
  {
   "cell_type": "code",
   "execution_count": 44,
   "metadata": {},
   "outputs": [],
   "source": [
    "blur_img=convulation(img, gaussian_mask)\n",
    "data = Image.fromarray(blur_img)\n",
    "data.save('blur_img.png')"
   ]
  },
  {
   "cell_type": "code",
   "execution_count": 45,
   "metadata": {},
   "outputs": [],
   "source": [
    "correlation_img=correlation(img, gaussian_mask)\n",
    "data = Image.fromarray(correlation_img)\n",
    "data.save('correlation_img.png')"
   ]
  },
  {
   "cell_type": "code",
   "execution_count": null,
   "metadata": {},
   "outputs": [],
   "source": [
    "def blur_img(img, mask):\n",
    "    arr=[]\n",
    "    for i in range(len(img)-len(gaussian_mask)+1):\n",
    "        arr1=[]\n",
    "        for j in range(len(img[0])-len(gaussian_mask)+1):\n",
    "            arr1.append(apply_kernel(img[i:i+3, j:j+3],gaussian_mask))\n",
    "        arr.append(arr1)\n",
    "    return np.array(arr)"
   ]
  },
  {
   "cell_type": "code",
   "execution_count": null,
   "metadata": {},
   "outputs": [],
   "source": [
    "data = Image.fromarray(blur_img(img, gaussian_mask))\n",
    "data.save('blur_img1.png')"
   ]
  }
 ],
 "metadata": {
  "kernelspec": {
   "display_name": "Python 3.10.5 64-bit",
   "language": "python",
   "name": "python3"
  },
  "language_info": {
   "codemirror_mode": {
    "name": "ipython",
    "version": 3
   },
   "file_extension": ".py",
   "mimetype": "text/x-python",
   "name": "python",
   "nbconvert_exporter": "python",
   "pygments_lexer": "ipython3",
   "version": "3.10.5"
  },
  "orig_nbformat": 4,
  "vscode": {
   "interpreter": {
    "hash": "1faf759d177765deb55ee80ab4abb1efe18815b38afeaebc22989555973fc7cb"
   }
  }
 },
 "nbformat": 4,
 "nbformat_minor": 2
}

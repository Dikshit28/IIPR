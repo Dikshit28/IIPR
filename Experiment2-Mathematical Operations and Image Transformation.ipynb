{
 "cells": [
  {
   "cell_type": "code",
   "execution_count": 1,
   "id": "75fe6ae9",
   "metadata": {},
   "outputs": [
    {
     "name": "stdout",
     "output_type": "stream",
     "text": [
      "Requirement already satisfied: opencv-python in c:\\users\\diku3\\appdata\\local\\programs\\python\\python310\\lib\\site-packages (4.6.0.66)\n",
      "Requirement already satisfied: numpy>=1.14.5 in c:\\users\\diku3\\appdata\\local\\programs\\python\\python310\\lib\\site-packages (from opencv-python) (1.23.0)\n"
     ]
    }
   ],
   "source": [
    "#OpenCV Library\n",
    "!pip install opencv-python"
   ]
  },
  {
   "cell_type": "code",
   "execution_count": 2,
   "id": "388e537e",
   "metadata": {},
   "outputs": [],
   "source": [
    "import cv2"
   ]
  },
  {
   "cell_type": "code",
   "execution_count": 3,
   "id": "1e122160",
   "metadata": {},
   "outputs": [],
   "source": [
    "image1 = cv2.imread('circle.jpeg')\n",
    "image2 = cv2.imread('squares.jpeg')\n",
    "cv2.imshow('Image1', image1)\n",
    "cv2.imshow('Image2', image2)\n",
    "cv2.waitKey(0)\n",
    "cv2.destroyAllWindows()"
   ]
  },
  {
   "cell_type": "code",
   "execution_count": 4,
   "id": "6374468d",
   "metadata": {},
   "outputs": [],
   "source": [
    "#Addition of Images: Size of Images should be same\n",
    "AddImg = cv2.add(image1, image2)\n",
    "cv2.imshow('Added-Image', AddImg)\n",
    "cv2.waitKey(0)\n",
    "cv2.destroyAllWindows()"
   ]
  },
  {
   "cell_type": "code",
   "execution_count": 5,
   "id": "b36de191",
   "metadata": {},
   "outputs": [],
   "source": [
    "#cv2.addWeighted is applied over the image inputs with applied parameters\n",
    "weightedSum = cv2.addWeighted(image1, 0.5, image2, 0.5, 0)\n",
    "# the window showing output image\n",
    "# with the weighted sum\n",
    "cv2.imshow('Weighted Image', weightedSum) \n",
    "cv2.waitKey(0)\n",
    "cv2.destroyAllWindows()"
   ]
  },
  {
   "cell_type": "code",
   "execution_count": 6,
   "id": "7cad18b8",
   "metadata": {},
   "outputs": [],
   "source": [
    "SubtractImg = cv2.subtract(image1, image2)\n",
    "cv2.imshow('Subtract-Image', SubtractImg)\n",
    "cv2.waitKey(0)\n",
    "cv2.destroyAllWindows()"
   ]
  },
  {
   "cell_type": "code",
   "execution_count": 7,
   "id": "81e24ad3",
   "metadata": {},
   "outputs": [],
   "source": [
    "MultiplyImg = cv2.multiply(image1, image2)\n",
    "cv2.imshow('Product-Image', MultiplyImg)\n",
    "cv2.waitKey(0)\n",
    "cv2.destroyAllWindows()"
   ]
  },
  {
   "cell_type": "code",
   "execution_count": 8,
   "id": "da219960",
   "metadata": {},
   "outputs": [],
   "source": [
    "divideImg1 = cv2.divide(image1, image2)\n",
    "divideImg2 = cv2.divide(image2, image1)\n",
    "imgNormalize1 = cv2.normalize(divideImg1,None,0,255,cv2.NORM_MINMAX)\n",
    "imgNormalize2 = cv2.normalize(divideImg2, None, 0, 255, cv2.NORM_MINMAX)\n",
    "cv2.imshow('divide-Image1', imgNormalize1)\n",
    "cv2.imshow('divide-Image2', imgNormalize2)\n",
    "cv2.waitKey(0)\n",
    "cv2.destroyAllWindows()"
   ]
  },
  {
   "cell_type": "code",
   "execution_count": 9,
   "id": "34571bde",
   "metadata": {},
   "outputs": [],
   "source": [
    "#Bitwise Operators\n",
    "image3 = cv2.imread('circle.jpeg')\n",
    "image4 = cv2.imread('squares.jpeg')"
   ]
  },
  {
   "cell_type": "code",
   "execution_count": 10,
   "id": "5b85cd4e",
   "metadata": {},
   "outputs": [],
   "source": [
    "final_image = cv2.bitwise_and(image3, image4, mask = None)\n",
    "cv2.imshow('Bitwise And', final_image)\n",
    "cv2.waitKey(0)\n",
    "cv2.destroyAllWindows()"
   ]
  },
  {
   "cell_type": "code",
   "execution_count": 11,
   "id": "fef3e71d",
   "metadata": {},
   "outputs": [],
   "source": [
    "final_image = cv2.bitwise_or(image3, image4, mask = None)\n",
    "cv2.imshow('Bitwise Or', final_image)\n",
    "cv2.waitKey(0)\n",
    "cv2.destroyAllWindows()"
   ]
  },
  {
   "cell_type": "code",
   "execution_count": 12,
   "id": "9063acfb",
   "metadata": {},
   "outputs": [],
   "source": [
    "cv2.imshow('Bitwise XOr', final_image)\n",
    "cv2.waitKey(0)\n",
    "cv2.destroyAllWindows()"
   ]
  },
  {
   "cell_type": "code",
   "execution_count": 13,
   "id": "01a8ffbe",
   "metadata": {},
   "outputs": [],
   "source": [
    "final_image1 = cv2.bitwise_not(image3, mask = None)\n",
    "final_image2 = cv2.bitwise_not(image4, mask = None)\n",
    "cv2.imshow('Bitwise Not1', final_image1)\n",
    "cv2.waitKey(0)\n",
    "cv2.destroyAllWindows()"
   ]
  },
  {
   "cell_type": "code",
   "execution_count": 14,
   "id": "f043e14a",
   "metadata": {},
   "outputs": [],
   "source": [
    "cv2.imshow('Bitwise Not1', final_image2)\n",
    "cv2.waitKey(0)\n",
    "cv2.destroyAllWindows()"
   ]
  },
  {
   "cell_type": "code",
   "execution_count": 25,
   "id": "3830bbbf",
   "metadata": {},
   "outputs": [],
   "source": [
    "#Negative Transformation for Coloured Image\n",
    "img = cv2.imread('landscape.jpeg',1)\n",
    "L = img.max()\n",
    "img_neg = L-img\n",
    "cv2.imshow('Negative Transformation', img_neg)\n",
    "cv2.waitKey(0)\n",
    "cv2.destroyAllWindows()"
   ]
  },
  {
   "cell_type": "code",
   "execution_count": 32,
   "id": "fad3c456",
   "metadata": {},
   "outputs": [],
   "source": [
    "#Negative Transformation for GrayScale Image\n",
    "img = cv2.imread('landscape.jpeg',2)\n",
    "L = img.max()\n",
    "img_neg = L-img\n",
    "cv2.imshow('Negative Transformation', img_neg)\n",
    "cv2.waitKey(0)\n",
    "cv2.destroyAllWindows()"
   ]
  },
  {
   "cell_type": "code",
   "execution_count": 31,
   "id": "6521a559",
   "metadata": {},
   "outputs": [
    {
     "name": "stderr",
     "output_type": "stream",
     "text": [
      "C:\\Users\\diku3\\AppData\\Local\\Temp\\ipykernel_5888\\535749296.py:12: RuntimeWarning: divide by zero encountered in log\n",
      "  log_image = c * (np.log(img + 1))\n"
     ]
    }
   ],
   "source": [
    "#Log Transformation\n",
    "# Formula: S = c*log(1+r)\n",
    "#where,\n",
    "#R = input pixel value,\n",
    "#C = scaling constant and\n",
    "#S = output pixel value\n",
    "#formula to calculate C: c = 255 / (log (1 + max_input_pixel_value))\n",
    "import numpy as np\n",
    "img = cv2.imread('landscape.jpeg',1)\n",
    "# Apply log transformation method\n",
    "c = 255 / np.log(1 + np.max(img))\n",
    "log_image = c * (np.log(img + 1))\n",
    "# Specify the data type so that\n",
    "# float value will be converted to int\n",
    "log_image = np.array(log_image, dtype = np.uint8)\n",
    "cv2.imshow('Original Image', img)\n",
    "cv2.imshow('Log-Tranformed Image', log_image)\n",
    "cv2.waitKey(0)\n",
    "cv2.destroyAllWindows()"
   ]
  },
  {
   "cell_type": "code",
   "execution_count": 28,
   "id": "70c5a803",
   "metadata": {},
   "outputs": [],
   "source": [
    "#Power-Law/Gamma Transformation\n",
    "# Formula: S = c*r^(γ)\n",
    "#where,\n",
    "#R = input pixel value,\n",
    "#C and γ = positive constant \n",
    "#S = output pixel value\n",
    "#formula to calculate C: c = 255 / (log (1 + max_input_pixel_value))"
   ]
  },
  {
   "cell_type": "code",
   "execution_count": 30,
   "id": "a9113d4c",
   "metadata": {},
   "outputs": [],
   "source": [
    "import numpy as np\n",
    "import cv2\n",
    "import numpy as np\n",
    "img = cv2.imread('landscape.jpeg',1)\n",
    "# Apply Gamma=2.2 on the normalised image and then multiply by scaling constant (For 8 bit, c=255)\n",
    "gamma_two_point_two = np.array(255*(img/255)**2.2,dtype='uint8')\n",
    "# Similarly, Apply Gamma=0.4 \n",
    "gamma_point_four = np.array(255*(img/255)**0.4,dtype='uint8')\n",
    "# Display the images in subplots\n",
    "img3 = cv2.hconcat([gamma_two_point_two,gamma_point_four])\n",
    "cv2.imshow('a2',img3)\n",
    "cv2.waitKey(0)\n",
    "cv2.destroyAllWindows()\n"
   ]
  },
  {
   "cell_type": "code",
   "execution_count": null,
   "id": "e5adc0cb",
   "metadata": {},
   "outputs": [],
   "source": []
  }
 ],
 "metadata": {
  "kernelspec": {
   "display_name": "Python 3.10.5 64-bit",
   "language": "python",
   "name": "python3"
  },
  "language_info": {
   "codemirror_mode": {
    "name": "ipython",
    "version": 3
   },
   "file_extension": ".py",
   "mimetype": "text/x-python",
   "name": "python",
   "nbconvert_exporter": "python",
   "pygments_lexer": "ipython3",
   "version": "3.10.5"
  },
  "vscode": {
   "interpreter": {
    "hash": "1faf759d177765deb55ee80ab4abb1efe18815b38afeaebc22989555973fc7cb"
   }
  }
 },
 "nbformat": 4,
 "nbformat_minor": 5
}
